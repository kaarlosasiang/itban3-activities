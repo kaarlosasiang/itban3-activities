{
  "nbformat": 4,
  "nbformat_minor": 0,
  "metadata": {
    "colab": {
      "provenance": [],
      "authorship_tag": "ABX9TyPb0QSpxdvMVi9tF2Q27/o/",
      "include_colab_link": true
    },
    "kernelspec": {
      "name": "python3",
      "display_name": "Python 3"
    },
    "language_info": {
      "name": "python"
    }
  },
  "cells": [
    {
      "cell_type": "markdown",
      "metadata": {
        "id": "view-in-github",
        "colab_type": "text"
      },
      "source": [
        "<a href=\"https://colab.research.google.com/github/kaarlosasiang/itban3-activities/blob/main/LabActivity2_Sasiang.ipynb\" target=\"_parent\"><img src=\"https://colab.research.google.com/assets/colab-badge.svg\" alt=\"Open In Colab\"/></a>"
      ]
    },
    {
      "cell_type": "markdown",
      "source": [
        "# **Laboratory Exrcise #2**\n",
        "\n",
        "1. Using the Colab notebook, import the following packages/ libraries/ modules:\n",
        "\n",
        "  - OS\n",
        "\n",
        "  - Numpy\n",
        "\n",
        "  - Pandas\n",
        "\n",
        "  - Matplotlib\n",
        "\n",
        "  - Seaborn\n",
        "\n",
        "  - Warnings (to suppress warnings)"
      ],
      "metadata": {
        "id": "ZgFOxW7DM4Ju"
      }
    },
    {
      "cell_type": "code",
      "execution_count": 87,
      "metadata": {
        "id": "svNgguYlETKt"
      },
      "outputs": [],
      "source": [
        "import numpy as np\n",
        "from scipy import stats\n",
        "import pandas as pd\n",
        "import matplotlib.pyplot as plt\n",
        "import seaborn as sns\n",
        "import warnings\n",
        "import os.path\n",
        "from google.colab import drive\n",
        "import matplotlib.pyplot as plt\n",
        "from sklearn.preprocessing import MinMaxScaler\n",
        "from scipy.stats import skew, kurtosis\n",
        "\n",
        "# Define Paths, Variables & Methods\n",
        "drive_path = '/content/drive'\n",
        "file_path = drive_path + \"/MyDrive/Colab Notebooks/loans.csv\"\n",
        "index_col = 'client_id'\n",
        "\n",
        "def check_outliers(df, col, method = \"iqr\", threshold=3.5):\n",
        "  if method == \"iqr\":\n",
        "    q1 = df[col].quantile(0.25)\n",
        "    q3 = df[col].quantile(0.75)\n",
        "    iqr = q3 - q1\n",
        "    lower_bound = q1 - (threshold * iqr)\n",
        "    upper_bound = q3 + (threshold * iqr)\n",
        "    df[\"outlier_\" + col] = (df[col] < lower_bound) | (df[col] > upper_bound)\n",
        "\n",
        "  elif method == \"zscore\":\n",
        "    mean = df[col].mean()\n",
        "    std = df[col].std()\n",
        "    z_scores = (df[col] - mean) / std\n",
        "\n",
        "  else:\n",
        "    raise ValueError(\"Invalid method. Choose 'iqr' or 'zscore'. \")\n",
        "\n",
        "\n",
        "# Mount Drive if !mounted\n",
        "if not os.path.ismount(drive_path):\n",
        "  drive.mount(drive_path)"
      ]
    },
    {
      "cell_type": "markdown",
      "source": [
        "2. Import and load the dataset. Set the client_id as the index.\n",
        "\n",
        "3. Display the contents of the dataset by showing its first 5 rows."
      ],
      "metadata": {
        "id": "kH-NxhZ2NYuZ"
      }
    },
    {
      "cell_type": "code",
      "source": [
        "#  Import Dataset & set client_id as the index\n",
        "df = pd.read_csv(file_path, index_col = index_col)\n",
        "\n",
        "# Showing the first 5 rows\n",
        "df.head(5)\n"
      ],
      "metadata": {
        "colab": {
          "base_uri": "https://localhost:8080/",
          "height": 344
        },
        "id": "CJ5Lscz3MxJV",
        "outputId": "6e7e4a0e-0681-41e7-cb30-156fa1042b32"
      },
      "execution_count": 88,
      "outputs": [
        {
          "output_type": "execute_result",
          "data": {
            "text/plain": [
              "          loan_type  loan_amount  repaid  loan_id  loan_start    loan_end  \\\n",
              "client_id                                                                   \n",
              "46109          home        13672       0    10243  2002-04-16  2003-12-20   \n",
              "46109        credit         9794       0    10984  2003-10-21  2005-07-17   \n",
              "46109          home        12734       1    10990  2006-02-01  2007-07-05   \n",
              "46109          cash        12518       1    10596  2010-12-08  2013-05-05   \n",
              "46109        credit        14049       1    11415  2010-07-07  2012-05-21   \n",
              "\n",
              "           rate  \n",
              "client_id        \n",
              "46109      2.15  \n",
              "46109      1.25  \n",
              "46109      0.68  \n",
              "46109      1.24  \n",
              "46109      3.13  "
            ],
            "text/html": [
              "\n",
              "  <div id=\"df-877c79c1-448e-4ba5-a8a9-a9a9449562db\" class=\"colab-df-container\">\n",
              "    <div>\n",
              "<style scoped>\n",
              "    .dataframe tbody tr th:only-of-type {\n",
              "        vertical-align: middle;\n",
              "    }\n",
              "\n",
              "    .dataframe tbody tr th {\n",
              "        vertical-align: top;\n",
              "    }\n",
              "\n",
              "    .dataframe thead th {\n",
              "        text-align: right;\n",
              "    }\n",
              "</style>\n",
              "<table border=\"1\" class=\"dataframe\">\n",
              "  <thead>\n",
              "    <tr style=\"text-align: right;\">\n",
              "      <th></th>\n",
              "      <th>loan_type</th>\n",
              "      <th>loan_amount</th>\n",
              "      <th>repaid</th>\n",
              "      <th>loan_id</th>\n",
              "      <th>loan_start</th>\n",
              "      <th>loan_end</th>\n",
              "      <th>rate</th>\n",
              "    </tr>\n",
              "    <tr>\n",
              "      <th>client_id</th>\n",
              "      <th></th>\n",
              "      <th></th>\n",
              "      <th></th>\n",
              "      <th></th>\n",
              "      <th></th>\n",
              "      <th></th>\n",
              "      <th></th>\n",
              "    </tr>\n",
              "  </thead>\n",
              "  <tbody>\n",
              "    <tr>\n",
              "      <th>46109</th>\n",
              "      <td>home</td>\n",
              "      <td>13672</td>\n",
              "      <td>0</td>\n",
              "      <td>10243</td>\n",
              "      <td>2002-04-16</td>\n",
              "      <td>2003-12-20</td>\n",
              "      <td>2.15</td>\n",
              "    </tr>\n",
              "    <tr>\n",
              "      <th>46109</th>\n",
              "      <td>credit</td>\n",
              "      <td>9794</td>\n",
              "      <td>0</td>\n",
              "      <td>10984</td>\n",
              "      <td>2003-10-21</td>\n",
              "      <td>2005-07-17</td>\n",
              "      <td>1.25</td>\n",
              "    </tr>\n",
              "    <tr>\n",
              "      <th>46109</th>\n",
              "      <td>home</td>\n",
              "      <td>12734</td>\n",
              "      <td>1</td>\n",
              "      <td>10990</td>\n",
              "      <td>2006-02-01</td>\n",
              "      <td>2007-07-05</td>\n",
              "      <td>0.68</td>\n",
              "    </tr>\n",
              "    <tr>\n",
              "      <th>46109</th>\n",
              "      <td>cash</td>\n",
              "      <td>12518</td>\n",
              "      <td>1</td>\n",
              "      <td>10596</td>\n",
              "      <td>2010-12-08</td>\n",
              "      <td>2013-05-05</td>\n",
              "      <td>1.24</td>\n",
              "    </tr>\n",
              "    <tr>\n",
              "      <th>46109</th>\n",
              "      <td>credit</td>\n",
              "      <td>14049</td>\n",
              "      <td>1</td>\n",
              "      <td>11415</td>\n",
              "      <td>2010-07-07</td>\n",
              "      <td>2012-05-21</td>\n",
              "      <td>3.13</td>\n",
              "    </tr>\n",
              "  </tbody>\n",
              "</table>\n",
              "</div>\n",
              "    <div class=\"colab-df-buttons\">\n",
              "\n",
              "  <div class=\"colab-df-container\">\n",
              "    <button class=\"colab-df-convert\" onclick=\"convertToInteractive('df-877c79c1-448e-4ba5-a8a9-a9a9449562db')\"\n",
              "            title=\"Convert this dataframe to an interactive table.\"\n",
              "            style=\"display:none;\">\n",
              "\n",
              "  <svg xmlns=\"http://www.w3.org/2000/svg\" height=\"24px\" viewBox=\"0 -960 960 960\">\n",
              "    <path d=\"M120-120v-720h720v720H120Zm60-500h600v-160H180v160Zm220 220h160v-160H400v160Zm0 220h160v-160H400v160ZM180-400h160v-160H180v160Zm440 0h160v-160H620v160ZM180-180h160v-160H180v160Zm440 0h160v-160H620v160Z\"/>\n",
              "  </svg>\n",
              "    </button>\n",
              "\n",
              "  <style>\n",
              "    .colab-df-container {\n",
              "      display:flex;\n",
              "      gap: 12px;\n",
              "    }\n",
              "\n",
              "    .colab-df-convert {\n",
              "      background-color: #E8F0FE;\n",
              "      border: none;\n",
              "      border-radius: 50%;\n",
              "      cursor: pointer;\n",
              "      display: none;\n",
              "      fill: #1967D2;\n",
              "      height: 32px;\n",
              "      padding: 0 0 0 0;\n",
              "      width: 32px;\n",
              "    }\n",
              "\n",
              "    .colab-df-convert:hover {\n",
              "      background-color: #E2EBFA;\n",
              "      box-shadow: 0px 1px 2px rgba(60, 64, 67, 0.3), 0px 1px 3px 1px rgba(60, 64, 67, 0.15);\n",
              "      fill: #174EA6;\n",
              "    }\n",
              "\n",
              "    .colab-df-buttons div {\n",
              "      margin-bottom: 4px;\n",
              "    }\n",
              "\n",
              "    [theme=dark] .colab-df-convert {\n",
              "      background-color: #3B4455;\n",
              "      fill: #D2E3FC;\n",
              "    }\n",
              "\n",
              "    [theme=dark] .colab-df-convert:hover {\n",
              "      background-color: #434B5C;\n",
              "      box-shadow: 0px 1px 3px 1px rgba(0, 0, 0, 0.15);\n",
              "      filter: drop-shadow(0px 1px 2px rgba(0, 0, 0, 0.3));\n",
              "      fill: #FFFFFF;\n",
              "    }\n",
              "  </style>\n",
              "\n",
              "    <script>\n",
              "      const buttonEl =\n",
              "        document.querySelector('#df-877c79c1-448e-4ba5-a8a9-a9a9449562db button.colab-df-convert');\n",
              "      buttonEl.style.display =\n",
              "        google.colab.kernel.accessAllowed ? 'block' : 'none';\n",
              "\n",
              "      async function convertToInteractive(key) {\n",
              "        const element = document.querySelector('#df-877c79c1-448e-4ba5-a8a9-a9a9449562db');\n",
              "        const dataTable =\n",
              "          await google.colab.kernel.invokeFunction('convertToInteractive',\n",
              "                                                    [key], {});\n",
              "        if (!dataTable) return;\n",
              "\n",
              "        const docLinkHtml = 'Like what you see? Visit the ' +\n",
              "          '<a target=\"_blank\" href=https://colab.research.google.com/notebooks/data_table.ipynb>data table notebook</a>'\n",
              "          + ' to learn more about interactive tables.';\n",
              "        element.innerHTML = '';\n",
              "        dataTable['output_type'] = 'display_data';\n",
              "        await google.colab.output.renderOutput(dataTable, element);\n",
              "        const docLink = document.createElement('div');\n",
              "        docLink.innerHTML = docLinkHtml;\n",
              "        element.appendChild(docLink);\n",
              "      }\n",
              "    </script>\n",
              "  </div>\n",
              "\n",
              "\n",
              "<div id=\"df-e86cd19a-3495-4ed0-bb53-279a1d67c446\">\n",
              "  <button class=\"colab-df-quickchart\" onclick=\"quickchart('df-e86cd19a-3495-4ed0-bb53-279a1d67c446')\"\n",
              "            title=\"Suggest charts\"\n",
              "            style=\"display:none;\">\n",
              "\n",
              "<svg xmlns=\"http://www.w3.org/2000/svg\" height=\"24px\"viewBox=\"0 0 24 24\"\n",
              "     width=\"24px\">\n",
              "    <g>\n",
              "        <path d=\"M19 3H5c-1.1 0-2 .9-2 2v14c0 1.1.9 2 2 2h14c1.1 0 2-.9 2-2V5c0-1.1-.9-2-2-2zM9 17H7v-7h2v7zm4 0h-2V7h2v10zm4 0h-2v-4h2v4z\"/>\n",
              "    </g>\n",
              "</svg>\n",
              "  </button>\n",
              "\n",
              "<style>\n",
              "  .colab-df-quickchart {\n",
              "      --bg-color: #E8F0FE;\n",
              "      --fill-color: #1967D2;\n",
              "      --hover-bg-color: #E2EBFA;\n",
              "      --hover-fill-color: #174EA6;\n",
              "      --disabled-fill-color: #AAA;\n",
              "      --disabled-bg-color: #DDD;\n",
              "  }\n",
              "\n",
              "  [theme=dark] .colab-df-quickchart {\n",
              "      --bg-color: #3B4455;\n",
              "      --fill-color: #D2E3FC;\n",
              "      --hover-bg-color: #434B5C;\n",
              "      --hover-fill-color: #FFFFFF;\n",
              "      --disabled-bg-color: #3B4455;\n",
              "      --disabled-fill-color: #666;\n",
              "  }\n",
              "\n",
              "  .colab-df-quickchart {\n",
              "    background-color: var(--bg-color);\n",
              "    border: none;\n",
              "    border-radius: 50%;\n",
              "    cursor: pointer;\n",
              "    display: none;\n",
              "    fill: var(--fill-color);\n",
              "    height: 32px;\n",
              "    padding: 0;\n",
              "    width: 32px;\n",
              "  }\n",
              "\n",
              "  .colab-df-quickchart:hover {\n",
              "    background-color: var(--hover-bg-color);\n",
              "    box-shadow: 0 1px 2px rgba(60, 64, 67, 0.3), 0 1px 3px 1px rgba(60, 64, 67, 0.15);\n",
              "    fill: var(--button-hover-fill-color);\n",
              "  }\n",
              "\n",
              "  .colab-df-quickchart-complete:disabled,\n",
              "  .colab-df-quickchart-complete:disabled:hover {\n",
              "    background-color: var(--disabled-bg-color);\n",
              "    fill: var(--disabled-fill-color);\n",
              "    box-shadow: none;\n",
              "  }\n",
              "\n",
              "  .colab-df-spinner {\n",
              "    border: 2px solid var(--fill-color);\n",
              "    border-color: transparent;\n",
              "    border-bottom-color: var(--fill-color);\n",
              "    animation:\n",
              "      spin 1s steps(1) infinite;\n",
              "  }\n",
              "\n",
              "  @keyframes spin {\n",
              "    0% {\n",
              "      border-color: transparent;\n",
              "      border-bottom-color: var(--fill-color);\n",
              "      border-left-color: var(--fill-color);\n",
              "    }\n",
              "    20% {\n",
              "      border-color: transparent;\n",
              "      border-left-color: var(--fill-color);\n",
              "      border-top-color: var(--fill-color);\n",
              "    }\n",
              "    30% {\n",
              "      border-color: transparent;\n",
              "      border-left-color: var(--fill-color);\n",
              "      border-top-color: var(--fill-color);\n",
              "      border-right-color: var(--fill-color);\n",
              "    }\n",
              "    40% {\n",
              "      border-color: transparent;\n",
              "      border-right-color: var(--fill-color);\n",
              "      border-top-color: var(--fill-color);\n",
              "    }\n",
              "    60% {\n",
              "      border-color: transparent;\n",
              "      border-right-color: var(--fill-color);\n",
              "    }\n",
              "    80% {\n",
              "      border-color: transparent;\n",
              "      border-right-color: var(--fill-color);\n",
              "      border-bottom-color: var(--fill-color);\n",
              "    }\n",
              "    90% {\n",
              "      border-color: transparent;\n",
              "      border-bottom-color: var(--fill-color);\n",
              "    }\n",
              "  }\n",
              "</style>\n",
              "\n",
              "  <script>\n",
              "    async function quickchart(key) {\n",
              "      const quickchartButtonEl =\n",
              "        document.querySelector('#' + key + ' button');\n",
              "      quickchartButtonEl.disabled = true;  // To prevent multiple clicks.\n",
              "      quickchartButtonEl.classList.add('colab-df-spinner');\n",
              "      try {\n",
              "        const charts = await google.colab.kernel.invokeFunction(\n",
              "            'suggestCharts', [key], {});\n",
              "      } catch (error) {\n",
              "        console.error('Error during call to suggestCharts:', error);\n",
              "      }\n",
              "      quickchartButtonEl.classList.remove('colab-df-spinner');\n",
              "      quickchartButtonEl.classList.add('colab-df-quickchart-complete');\n",
              "    }\n",
              "    (() => {\n",
              "      let quickchartButtonEl =\n",
              "        document.querySelector('#df-e86cd19a-3495-4ed0-bb53-279a1d67c446 button');\n",
              "      quickchartButtonEl.style.display =\n",
              "        google.colab.kernel.accessAllowed ? 'block' : 'none';\n",
              "    })();\n",
              "  </script>\n",
              "</div>\n",
              "    </div>\n",
              "  </div>\n"
            ],
            "application/vnd.google.colaboratory.intrinsic+json": {
              "type": "dataframe",
              "variable_name": "df",
              "repr_error": "'str' object has no attribute 'empty'"
            }
          },
          "metadata": {},
          "execution_count": 88
        }
      ]
    },
    {
      "cell_type": "markdown",
      "source": [
        "4. Check the info of the dataset and the datatypes for each columns\n",
        "\n",
        "5. Determine whether the dataset has missing values."
      ],
      "metadata": {
        "id": "WoRG45uTNjoO"
      }
    },
    {
      "cell_type": "code",
      "source": [
        "df.info()\n",
        "\n",
        "if df.isnull().any().any():\n",
        "  print(\"Dataset has missing values\")\n",
        "else:\n",
        "  print(\"\\nDataset has no missing values\")"
      ],
      "metadata": {
        "colab": {
          "base_uri": "https://localhost:8080/"
        },
        "id": "fei4To42NlgO",
        "outputId": "e78e3cd8-c578-409e-d7d3-e0b0d528efa7"
      },
      "execution_count": 89,
      "outputs": [
        {
          "output_type": "stream",
          "name": "stdout",
          "text": [
            "<class 'pandas.core.frame.DataFrame'>\n",
            "Int64Index: 443 entries, 46109 to 26945\n",
            "Data columns (total 7 columns):\n",
            " #   Column       Non-Null Count  Dtype  \n",
            "---  ------       --------------  -----  \n",
            " 0   loan_type    443 non-null    object \n",
            " 1   loan_amount  443 non-null    int64  \n",
            " 2   repaid       443 non-null    int64  \n",
            " 3   loan_id      443 non-null    int64  \n",
            " 4   loan_start   443 non-null    object \n",
            " 5   loan_end     443 non-null    object \n",
            " 6   rate         443 non-null    float64\n",
            "dtypes: float64(1), int64(3), object(3)\n",
            "memory usage: 27.7+ KB\n",
            "\n",
            "Dataset has no missing values\n"
          ]
        }
      ]
    },
    {
      "cell_type": "markdown",
      "source": [
        "6. Check if there is a presence of outliers using Boxplot."
      ],
      "metadata": {
        "id": "9jLPV1YoQTZB"
      }
    },
    {
      "cell_type": "code",
      "source": [
        "df.boxplot()\n",
        "plt.show()"
      ],
      "metadata": {
        "colab": {
          "base_uri": "https://localhost:8080/",
          "height": 430
        },
        "id": "D3fKdf1PQWX5",
        "outputId": "ef66b81b-9694-47c9-fb61-4291d5d4f20d"
      },
      "execution_count": 90,
      "outputs": [
        {
          "output_type": "display_data",
          "data": {
            "text/plain": [
              "<Figure size 640x480 with 1 Axes>"
            ],
            "image/png": "[encoded data removed]"
          },
          "metadata": {}
        }
      ]
    },
    {
      "cell_type": "markdown",
      "source": [
        "7. If there are a presence of outliers, do the following and explain the results:\n",
        "\n",
        "a. Treat them using SQRT transformation"
      ],
      "metadata": {
        "id": "WhRAYYeZjY7w"
      }
    },
    {
      "cell_type": "code",
      "source": [
        "df_sqrt_transformed = df.copy()\n",
        "numerical_cols = df_sqrt_transformed.select_dtypes(include=[np.number]).columns\n",
        "df_sqrt_transformed[numerical_cols] = np.sqrt(df_sqrt_transformed[numerical_cols])\n",
        "\n",
        "df_sqrt_transformed.boxplot()\n",
        "plt.show()"
      ],
      "metadata": {
        "colab": {
          "base_uri": "https://localhost:8080/",
          "height": 430
        },
        "id": "KGmZDJe8kaR4",
        "outputId": "0f308917-6c8e-4a22-cc08-c937d1e41659"
      },
      "execution_count": 91,
      "outputs": [
        {
          "output_type": "display_data",
          "data": {
            "text/plain": [
              "<Figure size 640x480 with 1 Axes>"
            ],
            "image/png": "[encoded data removed]"
          },
          "metadata": {}
        }
      ]
    },
    {
      "cell_type": "markdown",
      "source": [
        "b. Treat them using the capping approach: Z-Score."
      ],
      "metadata": {
        "id": "vHy1pKIYknuJ"
      }
    },
    {
      "cell_type": "code",
      "source": [
        "z_scores = np.abs(stats.zscore(df[numerical_cols]))\n",
        "threshold = 3\n",
        "df_z_capped = df[(z_scores < threshold).all(axis=1)]\n",
        "\n",
        "print(f\"Number of rows before capping: {df.shape[0]}\")\n",
        "print(f\"Number of rows after capping: {df_z_capped.shape[0]}\")"
      ],
      "metadata": {
        "colab": {
          "base_uri": "https://localhost:8080/"
        },
        "id": "JA2rSv2fkpw2",
        "outputId": "268f420f-b902-4938-9fd4-a21928d2133e"
      },
      "execution_count": 92,
      "outputs": [
        {
          "output_type": "stream",
          "name": "stdout",
          "text": [
            "Number of rows before capping: 443\n",
            "Number of rows after capping: 440\n"
          ]
        }
      ]
    },
    {
      "cell_type": "markdown",
      "source": [
        "8. Upon checking the datatypes for each columns, for numerical variables, apply scaling using Min-Max Normalization. Display the skewness and kurtosis graphs for Loan Amount and explain the results."
      ],
      "metadata": {
        "id": "voowskUaqIOz"
      }
    },
    {
      "cell_type": "code",
      "source": [
        "scaler = MinMaxScaler()\n",
        "df_scaled = df.copy()\n",
        "df_scaled[numerical_cols] = scaler.fit_transform(df_scaled[numerical_cols])\n",
        "\n",
        "df.head()\n",
        "\n",
        "plt.figure(figsize=(14, 6))\n",
        "\n",
        "plt.subplot(1, 2, 1)\n",
        "sns.histplot(df['loan_amount'], kde=True)\n",
        "plt.title(f'Skewness: {round(skew(df[\"loan_amount\"]), 2)}')\n",
        "\n",
        "plt.subplot(1, 2, 2)\n",
        "sns.histplot(df['loan_amount'], kde=True)\n",
        "plt.title(f'Kurtosis: {round(kurtosis(df[\"loan_amount\"]), 2)}')\n",
        "\n",
        "plt.show()"
      ],
      "metadata": {
        "colab": {
          "base_uri": "https://localhost:8080/",
          "height": 331
        },
        "id": "jnKWh-gYqKXO",
        "outputId": "f668961d-05f6-42a6-c3eb-487a6796c37b"
      },
      "execution_count": 93,
      "outputs": [
        {
          "output_type": "display_data",
          "data": {
            "text/plain": [
              "<Figure size 1400x600 with 2 Axes>"
            ],
            "image/png": "[encoded data removed]"
          },
          "metadata": {}
        }
      ]
    },
    {
      "cell_type": "markdown",
      "source": [
        "9. As for the categorical features, apply encoding of categorical variables into dummy variables using pd.get_dummies approach. Show the first five (5) rows."
      ],
      "metadata": {
        "id": "L-eQMo7iq9Lo"
      }
    },
    {
      "cell_type": "code",
      "source": [
        "df_with_dummies = pd.get_dummies(df, drop_first=True)\n",
        "\n",
        "print(df_with_dummies.head())"
      ],
      "metadata": {
        "colab": {
          "base_uri": "https://localhost:8080/"
        },
        "id": "RpNY5puLq_Un",
        "outputId": "d1c2da9d-e695-47ee-c93f-c7523d3a5455"
      },
      "execution_count": 94,
      "outputs": [
        {
          "output_type": "stream",
          "name": "stdout",
          "text": [
            "           loan_amount  repaid  loan_id  rate  loan_type_credit  \\\n",
            "client_id                                                         \n",
            "46109            13672       0    10243  2.15                 0   \n",
            "46109             9794       0    10984  1.25                 1   \n",
            "46109            12734       1    10990  0.68                 0   \n",
            "46109            12518       1    10596  1.24                 0   \n",
            "46109            14049       1    11415  3.13                 1   \n",
            "\n",
            "           loan_type_home  loan_type_other  loan_start_2000-03-06  \\\n",
            "client_id                                                           \n",
            "46109                   1                0                      0   \n",
            "46109                   0                0                      0   \n",
            "46109                   1                0                      0   \n",
            "46109                   0                0                      0   \n",
            "46109                   0                0                      0   \n",
            "\n",
            "           loan_start_2000-03-08  loan_start_2000-03-25  ...  \\\n",
            "client_id                                                ...   \n",
            "46109                          0                      0  ...   \n",
            "46109                          0                      0  ...   \n",
            "46109                          0                      0  ...   \n",
            "46109                          0                      0  ...   \n",
            "46109                          0                      0  ...   \n",
            "\n",
            "           loan_end_2016-11-14  loan_end_2016-11-27  loan_end_2016-12-10  \\\n",
            "client_id                                                                  \n",
            "46109                        0                    0                    0   \n",
            "46109                        0                    0                    0   \n",
            "46109                        0                    0                    0   \n",
            "46109                        0                    0                    0   \n",
            "46109                        0                    0                    0   \n",
            "\n",
            "           loan_end_2016-12-29  loan_end_2017-01-16  loan_end_2017-01-19  \\\n",
            "client_id                                                                  \n",
            "46109                        0                    0                    0   \n",
            "46109                        0                    0                    0   \n",
            "46109                        0                    0                    0   \n",
            "46109                        0                    0                    0   \n",
            "46109                        0                    0                    0   \n",
            "\n",
            "           loan_end_2017-01-26  loan_end_2017-01-29  loan_end_2017-02-15  \\\n",
            "client_id                                                                  \n",
            "46109                        0                    0                    0   \n",
            "46109                        0                    0                    0   \n",
            "46109                        0                    0                    0   \n",
            "46109                        0                    0                    0   \n",
            "46109                        0                    0                    0   \n",
            "\n",
            "           loan_end_2017-05-07  \n",
            "client_id                       \n",
            "46109                        0  \n",
            "46109                        0  \n",
            "46109                        0  \n",
            "46109                        0  \n",
            "46109                        0  \n",
            "\n",
            "[5 rows x 863 columns]\n"
          ]
        }
      ]
    },
    {
      "cell_type": "markdown",
      "source": [
        "10. Create new derived features to calculate the tenure of the loan by using the loan_start and loan_end."
      ],
      "metadata": {
        "id": "ZhBD4Jl3rDuD"
      }
    },
    {
      "cell_type": "code",
      "source": [
        "df['loan_start'] = pd.to_datetime(df['loan_start'])\n",
        "df['loan_end'] = pd.to_datetime(df['loan_end'])\n",
        "df['loan_tenure'] = (df['loan_end'] - df['loan_start']).dt.days / 365\n",
        "\n",
        "print(df[['loan_start', 'loan_end', 'loan_tenure']].head())"
      ],
      "metadata": {
        "colab": {
          "base_uri": "https://localhost:8080/"
        },
        "id": "GB0EDJL7rFw1",
        "outputId": "e0f9b4bc-ed40-40a1-f405-4ef991a9d0ae"
      },
      "execution_count": 95,
      "outputs": [
        {
          "output_type": "stream",
          "name": "stdout",
          "text": [
            "          loan_start   loan_end  loan_tenure\n",
            "client_id                                   \n",
            "46109     2002-04-16 2003-12-20     1.679452\n",
            "46109     2003-10-21 2005-07-17     1.739726\n",
            "46109     2006-02-01 2007-07-05     1.421918\n",
            "46109     2010-12-08 2013-05-05     2.408219\n",
            "46109     2010-07-07 2012-05-21     1.873973\n"
          ]
        }
      ]
    },
    {
      "cell_type": "markdown",
      "source": [
        "11. Split the data into training and test sets with 80-20 division."
      ],
      "metadata": {
        "id": "NtH7KxpWrNXs"
      }
    },
    {
      "cell_type": "code",
      "source": [
        "from sklearn.model_selection import train_test_split\n",
        "X = df.drop('loan_amount', axis=1)\n",
        "y = df['loan_amount']\n",
        "X_train, X_test, y_train, y_test = train_test_split(X, y, test_size=0.2, random_state=42)\n",
        "print(\"Training set shape:\", X_train.shape, y_train.shape)\n",
        "print(\"Test set shape:\", X_test.shape, y_test.shape)\n"
      ],
      "metadata": {
        "id": "941AqLV_rRfg"
      },
      "execution_count": null,
      "outputs": []
    }
  ]
}